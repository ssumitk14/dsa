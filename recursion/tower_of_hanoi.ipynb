{
 "cells": [
  {
   "cell_type": "markdown",
   "id": "8c6db6cb-6b3a-498b-b7c9-7e977f14dc07",
   "metadata": {},
   "source": [
    "<p>Tower of Hanoi is a mathematical puzzle where we have three rods (<strong>A</strong>, <strong>B</strong>, and <strong>C</strong>) and <strong>N</strong> disks. Initially, all the disks are stacked in decreasing value of diameter i.e., the smallest disk is placed on the top and they are on rod <strong>A</strong>. The objective of the puzzle is to move the entire stack to another rod (here considered <strong>C</strong>), obeying the following simple rules:&nbsp;</p>\n",
    "\n",
    "<ul><li>Only one disk can be moved at a time.</li><li>Each move consists of taking the upper disk from one of the stacks and placing it on top of another stack i.e. a disk can only be moved if it is the uppermost disk on a stack.</li><li>No disk may be placed on top of a smaller disk.</li></ul>\n",
    "\n",
    "<h2><strong><u>Tower of Hanoi using Recursion:</u></strong></h2>\n",
    "\n",
    "<blockquote><p>&nbsp;The idea is to use the helper node to reach the destination using recursion. Below is the pattern for this problem:</p><ul><li>Shift ‘N-1’ disks from ‘A’ to ‘B’, using C.</li><li>Shift last disk from ‘A’ to ‘C’.</li><li>Shift ‘N-1’ disks from ‘B’ to ‘C’, using A.</li></ul></blockquote>\n",
    "\n",
    "<div style=\"width:810px\" class=\"wp-caption alignnone\"><img src=\"https://media.geeksforgeeks.org/wp-content/uploads/tower-of-hanoi.png\" alt=\"faq.disk3\"><p class=\"wp-caption-text\">Image illustration for 3 disks</p></div>\n",
    "\n",
    "\n",
    "<ul><li>Create a function <strong>towerOfHanoi </strong>where pass the <strong>N</strong> (current number of disk), <strong>from_rod</strong>, <strong>to_rod</strong>, <strong>aux_rod.</strong></li><li>Make a function call for N – 1 th disk.</li><li>Then print the current the disk along with <strong>from_rod</strong> and <strong>to_rod</strong></li><li>Again make a function call for N – 1 th disk.</li></ul>"
   ]
  },
  {
   "cell_type": "code",
   "execution_count": 2,
   "id": "6a8fbdf8-c0cd-4922-830b-589f1f934c59",
   "metadata": {},
   "outputs": [
    {
     "name": "stdout",
     "output_type": "stream",
     "text": [
      "Move disk 1 from A to C\n",
      "Move disk 2 from A to B\n",
      "Move disk 1 from C to B\n",
      "Move disk 2 from A to B\n",
      "Move disk 3 from A to C\n",
      "Move disk 1 from B to A\n",
      "Move disk 2 from B to C\n",
      "Move disk 1 from A to C\n",
      "Move disk 2 from B to C\n",
      "Move disk 3 from A to C\n"
     ]
    }
   ],
   "source": [
    "def tower_of_hanoi(n, from_bar, to_bar, aux_bar):\n",
    "    if n==1:\n",
    "        print(\"Move disk 1 from {} to {}\".format(from_bar, to_bar))\n",
    "        return\n",
    "    tower_of_hanoi(n-1, from_bar, aux_bar, to_bar)\n",
    "    print(\"Move disk {} from {} to {}\".format(n, from_bar, to_bar))\n",
    "    tower_of_hanoi(n-1, aux_bar, to_bar, from_bar)\n",
    "    print(\"Move disk {} from {} to {}\".format(n, from_bar, to_bar))\n",
    "        \n",
    "n = 3\n",
    "tower_of_hanoi(n, \"A\", \"C\", \"B\")\n"
   ]
  },
  {
   "cell_type": "code",
   "execution_count": null,
   "id": "4b91ec9f-fa84-4d54-b5ef-0b4d188ba1f8",
   "metadata": {},
   "outputs": [],
   "source": []
  }
 ],
 "metadata": {
  "kernelspec": {
   "display_name": "Python 3 (ipykernel)",
   "language": "python",
   "name": "python3"
  },
  "language_info": {
   "codemirror_mode": {
    "name": "ipython",
    "version": 3
   },
   "file_extension": ".py",
   "mimetype": "text/x-python",
   "name": "python",
   "nbconvert_exporter": "python",
   "pygments_lexer": "ipython3",
   "version": "3.9.13"
  }
 },
 "nbformat": 4,
 "nbformat_minor": 5
}
